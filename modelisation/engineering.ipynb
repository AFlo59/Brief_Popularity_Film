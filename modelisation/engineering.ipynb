{
 "cells": [
  {
   "cell_type": "code",
   "execution_count": 65,
   "metadata": {},
   "outputs": [],
   "source": [
    "import pandas as pd\n",
    "import numpy as np\n",
    "from sklearn.preprocessing import PolynomialFeatures, RobustScaler, OneHotEncoder\n",
    "from sklearn.model_selection import train_test_split, GridSearchCV\n",
    "from sklearn.metrics import mean_absolute_error, r2_score, mean_squared_error\n",
    "from sklearn.pipeline import make_pipeline\n",
    "from sklearn.compose import ColumnTransformer\n",
    "from sklearn.pipeline import Pipeline\n",
    "from sklearn.preprocessing import FunctionTransformer\n",
    "from modelisation.functions import load_file, save_files\n",
    "from db.database_mysql import engine\n",
    "\n",
    "import xgboost \n",
    "from sklearn import set_config\n",
    "set_config(transform_output=\"pandas\")\n",
    "pd.set_option('display.max_columns', 500)"
   ]
  },
  {
   "cell_type": "code",
   "execution_count": 66,
   "metadata": {},
   "outputs": [],
   "source": [
    "def set_score(val, q):\n",
    "  s = q.loc[val >= q.total].tail(1).index\n",
    "  return s[0] if s.shape[0] > 0 else 0.25\n",
    "\n",
    "def calculate(df, col_name, use_col_spectator = 'total'):\n",
    "  q = df.quantile([0.01, .1, .25, .5, .75, .9, .95], numeric_only=True)\n",
    "\n",
    "  score = df.copy()\n",
    "  score[f'{col_name}_combined_score'] = df[use_col_spectator].apply(set_score, q=q)\n",
    "\n",
    "  save_files(\n",
    "          score[[col_name, f\"{col_name}_combined_score\"]],\n",
    "          f\"{col_name}_scores\",\n",
    "      )"
   ]
  },
  {
   "cell_type": "markdown",
   "metadata": {},
   "source": [
    "# DIRECTOR"
   ]
  },
  {
   "cell_type": "code",
   "execution_count": 67,
   "metadata": {},
   "outputs": [],
   "source": [
    "df = pd.read_sql_query('''SELECT im.director as director, sum(jp.first_week) as week, sum(jp.total_spectator) as total, count(im.id) as nb_film\n",
    "FROM films_imdb as im\n",
    "LEFT JOIN films_jp jp ON jp.id = im.id_jp \n",
    "where im.id_jp is not null and im.date = jp.date\n",
    "group by im.director\n",
    "order by total desc''', engine)\n",
    "\n",
    "calculate(df, 'director')"
   ]
  },
  {
   "cell_type": "markdown",
   "metadata": {},
   "source": [
    "# ACTOR"
   ]
  },
  {
   "cell_type": "code",
   "execution_count": 68,
   "metadata": {},
   "outputs": [],
   "source": [
    "df = pd.read_sql_query('''SELECT actor, sum(jp.first_week) as week, sum(jp.total_spectator) as total, count(im.id) as nb_film\n",
    "FROM films_imdb as im\n",
    "join\n",
    "   JSON_TABLE(\n",
    "     im.casting,\n",
    "     \"$[*]\"\n",
    "     COLUMNS(\n",
    "       actor VARCHAR(255) PATH \"$\"\n",
    "     )\n",
    "   ) as aa\n",
    "LEFT JOIN films_jp jp ON jp.id = im.id_jp \n",
    "where im.id_jp is not null and im.date = jp.date\n",
    "\n",
    "group by actor\n",
    "order by total desc''', engine)\n",
    "\n",
    "calculate(df, 'actor')"
   ]
  },
  {
   "cell_type": "markdown",
   "metadata": {},
   "source": [
    "# DISTRIBUTOR"
   ]
  },
  {
   "cell_type": "code",
   "execution_count": 69,
   "metadata": {},
   "outputs": [],
   "source": [
    "df = pd.read_sql_query('''SELECT dist, sum(jp.first_week) as week, sum(jp.total_spectator) as total, count(im.id) as nb_film\n",
    "FROM films_imdb as im\n",
    "join\n",
    "   JSON_TABLE(\n",
    "     im.distributor,\n",
    "     \"$[*]\"\n",
    "     COLUMNS(\n",
    "       dist VARCHAR(255) PATH \"$\"\n",
    "     )\n",
    "   ) as aa\n",
    "LEFT JOIN films_jp jp ON jp.id = im.id_jp \n",
    "where im.id_jp is not null and im.date = jp.date\n",
    "\n",
    "group by dist\n",
    "order by total desc''', engine)\n",
    "\n",
    "df.rename(columns={\"dist\": \"distributor\"}, inplace=True)\n",
    "calculate(df, 'distributor')"
   ]
  },
  {
   "cell_type": "code",
   "execution_count": 70,
   "metadata": {},
   "outputs": [
    {
     "data": {
      "text/plain": [
       "0      -1\n",
       "1      -1\n",
       "2      -1\n",
       "3      -1\n",
       "4      -1\n",
       "       ..\n",
       "1599   -1\n",
       "1600   -1\n",
       "1601   -1\n",
       "1602   -1\n",
       "1603   -1\n",
       "Name: director, Length: 1604, dtype: int64"
      ]
     },
     "execution_count": 70,
     "metadata": {},
     "output_type": "execute_result"
    }
   ],
   "source": [
    "q = load_file('director_scores')\n",
    "\n",
    "q.director.str.find(\"florent\")"
   ]
  }
 ],
 "metadata": {
  "kernelspec": {
   "display_name": ".venv",
   "language": "python",
   "name": "python3"
  },
  "language_info": {
   "codemirror_mode": {
    "name": "ipython",
    "version": 3
   },
   "file_extension": ".py",
   "mimetype": "text/x-python",
   "name": "python",
   "nbconvert_exporter": "python",
   "pygments_lexer": "ipython3",
   "version": "3.11.8"
  }
 },
 "nbformat": 4,
 "nbformat_minor": 2
}
