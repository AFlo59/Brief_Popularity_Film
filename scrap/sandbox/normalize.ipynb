{
 "cells": [
  {
   "cell_type": "code",
   "execution_count": 18,
   "metadata": {},
   "outputs": [
    {
     "name": "stdout",
     "output_type": "stream",
     "text": [
      "les bronzes 3 amis pour la vie\n"
     ]
    }
   ],
   "source": [
    "import html\n",
    "import unicodedata as ud\n",
    "#from unidecode import unidecode\n",
    "import re\n",
    "\n",
    "title = '  L\\'es Bronzés 3:&nbsp; Amis pour la vie 😊'\n",
    "\n",
    "# escape HTML\n",
    "title = html.unescape(title)\n",
    "# lowercase\n",
    "title = title.lower()\n",
    "# remove punctuation\n",
    "title = re.sub(r'[^\\w\\s]','', title)\n",
    "# remove multiple space\n",
    "title = re.sub(r'\\s\\s+',' ', title)\n",
    "# remove white spaces\n",
    "title = title.strip()\n",
    "\n",
    "title = ud.normalize('NFKD', title).encode('ascii', 'ignore').decode('utf8')\n",
    "\n",
    "print(title)"
   ]
  }
 ],
 "metadata": {
  "kernelspec": {
   "display_name": "Python 3",
   "language": "python",
   "name": "python3"
  },
  "language_info": {
   "codemirror_mode": {
    "name": "ipython",
    "version": 3
   },
   "file_extension": ".py",
   "mimetype": "text/x-python",
   "name": "python",
   "nbconvert_exporter": "python",
   "pygments_lexer": "ipython3",
   "version": "3.11.2"
  }
 },
 "nbformat": 4,
 "nbformat_minor": 2
}
