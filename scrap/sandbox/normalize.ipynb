{
 "cells": [
  {
   "cell_type": "code",
   "execution_count": 2,
   "metadata": {},
   "outputs": [
    {
     "name": "stdout",
     "output_type": "stream",
     "text": [
      "les bronzes 3 amis pour la vie\n"
     ]
    }
   ],
   "source": [
    "import html\n",
    "import unicodedata as ud\n",
    "#from unidecode import unidecode\n",
    "import re\n",
    "\n",
    "title = '  L\\'es Bronzés 3:&nbsp; Amis pour la vie 😊'\n",
    "\n",
    "# escape HTML\n",
    "title = html.unescape(title)\n",
    "# lowercase\n",
    "title = title.lower()\n",
    "# remove punctuation\n",
    "title = re.sub(r'[^\\w\\s]','', title)\n",
    "# remove multiple space\n",
    "title = re.sub(r'\\s\\s+',' ', title)\n",
    "# remove white spaces\n",
    "title = title.strip()\n",
    "\n",
    "title = ud.normalize('NFKD', title).encode('ascii', 'ignore').decode('utf8')\n",
    "\n",
    "print(title)"
   ]
  },
  {
   "cell_type": "code",
   "execution_count": 12,
   "metadata": {},
   "outputs": [],
   "source": [
    "import html\n",
    "import unicodedata as ud\n",
    "import re\n",
    "\n",
    "def normalize(str):\n",
    "    # escape HTML\n",
    "    str = html.unescape(str)\n",
    "    # lowercase\n",
    "    str = str.lower()\n",
    "    # remove punctuation\n",
    "    str = re.sub(r\"[^\\w\\s]\", \"\", str)\n",
    "    # remove multiple space\n",
    "    str = re.sub(r\"\\s\\s+\", \" \", str)\n",
    "    # char special\n",
    "    str = re.sub(r\"[œ]\", \"oe\", str)\n",
    "    # remove white spaces\n",
    "    str = str.strip()\n",
    "\n",
    "    return ud.normalize(\"NFKD\", str).encode(\"ascii\", \"ignore\").decode(\"utf8\")\n",
    "\n",
    "def convert_int(s, default=-1):\n",
    "    s = normalize(s)\n",
    "    try:\n",
    "        s = s.replace(\" \", \"\")\n",
    "        i = int(s)\n",
    "    except ValueError:\n",
    "        i = default\n",
    "    return i\n",
    "\n",
    "\n",
    "def convert_float(s, default=-1):\n",
    "    try:\n",
    "        s = s.replace(\" \", \"\")\n",
    "        s = s.replace(\",\", \".\")\n",
    "        i = float(s)\n",
    "    except ValueError:\n",
    "        i = default\n",
    "    return i"
   ]
  },
  {
   "cell_type": "code",
   "execution_count": 16,
   "metadata": {},
   "outputs": [
    {
     "name": "stdout",
     "output_type": "stream",
     "text": [
      "35000000\n",
      "coeursca e i o u\n"
     ]
    }
   ],
   "source": [
    "str = \"35 000 000 €\"\n",
    "\n",
    "print(convert_int(str))\n",
    "\n",
    "print(normalize('CŒURSÇÂ, ê, î, ô, û'))"
   ]
  },
  {
   "cell_type": "code",
   "execution_count": 8,
   "metadata": {},
   "outputs": [
    {
     "ename": "AttributeError",
     "evalue": "'NoneType' object has no attribute 'groups'",
     "output_type": "error",
     "traceback": [
      "\u001b[0;31m---------------------------------------------------------------------------\u001b[0m",
      "\u001b[0;31mAttributeError\u001b[0m                            Traceback (most recent call last)",
      "Cell \u001b[0;32mIn[8], line 6\u001b[0m\n\u001b[1;32m      3\u001b[0m \u001b[38;5;28mstr\u001b[39m \u001b[38;5;241m=\u001b[39m \u001b[38;5;124m\"\u001b[39m\u001b[38;5;124met 17 nominations prix\u001b[39m\u001b[38;5;124m\"\u001b[39m\n\u001b[1;32m      5\u001b[0m match \u001b[38;5;241m=\u001b[39m re\u001b[38;5;241m.\u001b[39msearch(\u001b[38;5;124mr\u001b[39m\u001b[38;5;124m'\u001b[39m\u001b[38;5;124m([0-9]) ?prix\u001b[39m\u001b[38;5;124m'\u001b[39m, \u001b[38;5;28mstr\u001b[39m)\n\u001b[0;32m----> 6\u001b[0m \u001b[38;5;28mprint\u001b[39m(\u001b[43mmatch\u001b[49m\u001b[38;5;241;43m.\u001b[39;49m\u001b[43mgroups\u001b[49m())\n",
      "\u001b[0;31mAttributeError\u001b[0m: 'NoneType' object has no attribute 'groups'"
     ]
    }
   ],
   "source": [
    "import re\n",
    "\n",
    "str = \"et 17 nominations prix\"\n",
    "\n",
    "match = re.search(r'([0-9]) ?prix', str)\n",
    "print(match.groups())"
   ]
  }
 ],
 "metadata": {
  "kernelspec": {
   "display_name": "Python 3",
   "language": "python",
   "name": "python3"
  },
  "language_info": {
   "codemirror_mode": {
    "name": "ipython",
    "version": 3
   },
   "file_extension": ".py",
   "mimetype": "text/x-python",
   "name": "python",
   "nbconvert_exporter": "python",
   "pygments_lexer": "ipython3",
   "version": "3.11.8"
  }
 },
 "nbformat": 4,
 "nbformat_minor": 2
}
