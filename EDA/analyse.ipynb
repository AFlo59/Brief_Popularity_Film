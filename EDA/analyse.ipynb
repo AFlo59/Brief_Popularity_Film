{
 "cells": [
  {
   "cell_type": "code",
   "execution_count": 9,
   "metadata": {},
   "outputs": [
    {
     "data": {
      "text/html": [
       "<div>\n",
       "<style scoped>\n",
       "    .dataframe tbody tr th:only-of-type {\n",
       "        vertical-align: middle;\n",
       "    }\n",
       "\n",
       "    .dataframe tbody tr th {\n",
       "        vertical-align: top;\n",
       "    }\n",
       "\n",
       "    .dataframe thead th {\n",
       "        text-align: right;\n",
       "    }\n",
       "</style>\n",
       "<table border=\"1\" class=\"dataframe\">\n",
       "  <thead>\n",
       "    <tr style=\"text-align: right;\">\n",
       "      <th></th>\n",
       "      <th>id</th>\n",
       "      <th>title</th>\n",
       "      <th>director</th>\n",
       "      <th>raw_title</th>\n",
       "      <th>raw_director</th>\n",
       "      <th>url_jp</th>\n",
       "      <th>year</th>\n",
       "      <th>country</th>\n",
       "      <th>duration</th>\n",
       "      <th>genre</th>\n",
       "      <th>first_day</th>\n",
       "      <th>first_weekend</th>\n",
       "      <th>first_week</th>\n",
       "      <th>hebdo_rank</th>\n",
       "      <th>total_spectator</th>\n",
       "      <th>copies</th>\n",
       "      <th>time_created</th>\n",
       "      <th>time_updated</th>\n",
       "    </tr>\n",
       "  </thead>\n",
       "  <tbody>\n",
       "    <tr>\n",
       "      <th>0</th>\n",
       "      <td>0010478f4e067fedf4634d0a06f0f0ad</td>\n",
       "      <td>7h58 ce samedila</td>\n",
       "      <td>sidney lumet</td>\n",
       "      <td>7h58 ce samedi-là</td>\n",
       "      <td>Sidney Lumet</td>\n",
       "      <td>https://www.jpbox-office.com/fichfilm.php?id=9...</td>\n",
       "      <td>2007</td>\n",
       "      <td>etatsunis</td>\n",
       "      <td>6960</td>\n",
       "      <td>thriller</td>\n",
       "      <td>8749</td>\n",
       "      <td>60450</td>\n",
       "      <td>74208</td>\n",
       "      <td>7</td>\n",
       "      <td>173224</td>\n",
       "      <td>118</td>\n",
       "      <td>2024-04-02 09:15:53</td>\n",
       "      <td>2024-04-02 09:15:53</td>\n",
       "    </tr>\n",
       "  </tbody>\n",
       "</table>\n",
       "</div>"
      ],
      "text/plain": [
       "                                 id             title      director  \\\n",
       "0  0010478f4e067fedf4634d0a06f0f0ad  7h58 ce samedila  sidney lumet   \n",
       "\n",
       "           raw_title  raw_director  \\\n",
       "0  7h58 ce samedi-là  Sidney Lumet   \n",
       "\n",
       "                                              url_jp  year    country  \\\n",
       "0  https://www.jpbox-office.com/fichfilm.php?id=9...  2007  etatsunis   \n",
       "\n",
       "   duration     genre  first_day  first_weekend  first_week  hebdo_rank  \\\n",
       "0      6960  thriller       8749          60450       74208           7   \n",
       "\n",
       "   total_spectator  copies         time_created         time_updated  \n",
       "0           173224     118  2024-04-02 09:15:53  2024-04-02 09:15:53  "
      ]
     },
     "execution_count": 9,
     "metadata": {},
     "output_type": "execute_result"
    }
   ],
   "source": [
    "import pandas as pd\n",
    "import sweetviz as sv\n",
    "\n",
    "# Charger vos données (par exemple, un DataFrame pandas)\n",
    "data = pd.read_csv('../../films_jp_202404021155.csv')\n",
    "data.head(1)"
   ]
  },
  {
   "cell_type": "code",
   "execution_count": 2,
   "metadata": {},
   "outputs": [
    {
     "name": "stderr",
     "output_type": "stream",
     "text": [
      "Done! Use 'show' commands to display/save.   |██████████| [100%]   00:01 -> (00:00 left)\n"
     ]
    },
    {
     "name": "stdout",
     "output_type": "stream",
     "text": [
      "Report report.html was generated! NOTEBOOK/COLAB USERS: the web browser MAY not pop up, regardless, the report IS saved in your notebook/colab files.\n"
     ]
    }
   ],
   "source": [
    "# SweetViz\n",
    "\n",
    "# report = sv.analyze(data)\n",
    "\n",
    "# report.show_html('report.html')\n"
   ]
  },
  {
   "cell_type": "code",
   "execution_count": null,
   "metadata": {},
   "outputs": [],
   "source": []
  }
 ],
 "metadata": {
  "kernelspec": {
   "display_name": ".venv",
   "language": "python",
   "name": "python3"
  },
  "language_info": {
   "codemirror_mode": {
    "name": "ipython",
    "version": 3
   },
   "file_extension": ".py",
   "mimetype": "text/x-python",
   "name": "python",
   "nbconvert_exporter": "python",
   "pygments_lexer": "ipython3",
   "version": "3.9.12"
  }
 },
 "nbformat": 4,
 "nbformat_minor": 2
}
