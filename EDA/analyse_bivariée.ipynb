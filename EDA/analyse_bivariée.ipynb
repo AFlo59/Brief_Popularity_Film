{
 "cells": [
  {
   "cell_type": "markdown",
   "metadata": {},
   "source": [
    "# Imports"
   ]
  },
  {
   "cell_type": "code",
   "execution_count": 11,
   "metadata": {},
   "outputs": [],
   "source": [
    "import pandas as pd\n",
    "import matplotlib.pyplot as plt\n",
    "import numpy as np\n",
    "from scipy.stats import boxcox, chi2_contingency, f, f_oneway, probplot\n",
    "import seaborn as sns"
   ]
  },
  {
   "cell_type": "markdown",
   "metadata": {},
   "source": [
    "# Loading"
   ]
  },
  {
   "cell_type": "code",
   "execution_count": 30,
   "metadata": {},
   "outputs": [],
   "source": [
    "# importation du modèle\n",
    "df = pd.read_csv('films_db2.csv')"
   ]
  },
  {
   "cell_type": "markdown",
   "metadata": {},
   "source": [
    "# Overview"
   ]
  },
  {
   "cell_type": "code",
   "execution_count": 21,
   "metadata": {},
   "outputs": [
    {
     "data": {
      "text/plain": [
       "(2366, 21)"
      ]
     },
     "execution_count": 21,
     "metadata": {},
     "output_type": "execute_result"
    }
   ],
   "source": [
    "df.shape"
   ]
  },
  {
   "cell_type": "code",
   "execution_count": 33,
   "metadata": {},
   "outputs": [
    {
     "data": {
      "text/plain": [
       "Index(['title', 'year', 'id_jp', 'url_allo', 'director', 'country', 'duration',\n",
       "       'genre', 'first_day', 'first_week', 'first_weekend', 'hebdo_rank',\n",
       "       'total_spectator', 'copies', 'rating_press', 'rating_public', 'casting',\n",
       "       'budget', 'lang', 'visa', 'award'],\n",
       "      dtype='object')"
      ]
     },
     "execution_count": 33,
     "metadata": {},
     "output_type": "execute_result"
    }
   ],
   "source": [
    "df.columns"
   ]
  },
  {
   "cell_type": "code",
   "execution_count": 22,
   "metadata": {},
   "outputs": [
    {
     "name": "stdout",
     "output_type": "stream",
     "text": [
      "<class 'pandas.core.frame.DataFrame'>\n",
      "RangeIndex: 2366 entries, 0 to 2365\n",
      "Data columns (total 21 columns):\n",
      " #   Column           Non-Null Count  Dtype  \n",
      "---  ------           --------------  -----  \n",
      " 0   title            2366 non-null   object \n",
      " 1   year             2366 non-null   int64  \n",
      " 2   id_jp            1645 non-null   object \n",
      " 3   url_allo         1645 non-null   object \n",
      " 4   director         2366 non-null   object \n",
      " 5   country          2366 non-null   object \n",
      " 6   duration         2366 non-null   int64  \n",
      " 7   genre            2366 non-null   object \n",
      " 8   first_day        2366 non-null   int64  \n",
      " 9   first_week       2366 non-null   int64  \n",
      " 10  first_weekend    2366 non-null   int64  \n",
      " 11  hebdo_rank       2366 non-null   int64  \n",
      " 12  total_spectator  2366 non-null   int64  \n",
      " 13  copies           2366 non-null   int64  \n",
      " 14  rating_press     1645 non-null   float64\n",
      " 15  rating_public    1645 non-null   float64\n",
      " 16  casting          1645 non-null   object \n",
      " 17  budget           1645 non-null   float64\n",
      " 18  lang             1645 non-null   object \n",
      " 19  visa             1645 non-null   float64\n",
      " 20  award            1645 non-null   float64\n",
      "dtypes: float64(5), int64(8), object(8)\n",
      "memory usage: 388.3+ KB\n"
     ]
    }
   ],
   "source": [
    "df.info()"
   ]
  },
  {
   "cell_type": "code",
   "execution_count": 13,
   "metadata": {},
   "outputs": [
    {
     "data": {
      "text/plain": [
       "<bound method NDFrame.head of                        title  year                             id_jp  \\\n",
       "0           7h58 ce samedila  2007  0010478f4e067fedf4634d0a06f0f0ad   \n",
       "1            menteur menteur  1997  00cc02716a6d42f38dd2efaa773b6900   \n",
       "2                dream house  2011  02acc86450b3f7c7eb34ecc6c4638bea   \n",
       "3                      paris  2008  02d8e008f9b224bc32c31ff34d4b90b8   \n",
       "4                 two lovers  2008  03101f932285a244f3887c89e43f519d   \n",
       "...                      ...   ...                               ...   \n",
       "2361                paycheck  2003  fc217cad46530edea35d642d6876e87e   \n",
       "2362          licorice pizza  2021  fcc1c34a7cc6b061a61cc2b20b088497   \n",
       "2363             after earth  2013  fd06145978961e804a966255aa2aa595   \n",
       "2364        un jour sans fin  1993  fd2184dca7908ce9669fc991ec829b38   \n",
       "2365  mon pere est ingenieur  2004                               NaN   \n",
       "\n",
       "                                               url_allo              director  \\\n",
       "0     https://www.allocine.fr/film/fichefilm_gen_cfi...          sidney lumet   \n",
       "1     https://www.allocine.fr/film/fichefilm_gen_cfi...           tom shadyac   \n",
       "2     https://www.allocine.fr/film/fichefilm_gen_cfi...          jim sheridan   \n",
       "3     https://www.allocine.fr/film/fichefilm_gen_cfi...       cedric klapisch   \n",
       "4     https://www.allocine.fr/film/fichefilm_gen_cfi...            james gray   \n",
       "...                                                 ...                   ...   \n",
       "2361  https://www.allocine.fr/film/fichefilm_gen_cfi...              john woo   \n",
       "2362  https://www.allocine.fr/film/fichefilm_gen_cfi...  paul thomas anderson   \n",
       "2363  https://www.allocine.fr/film/fichefilm_gen_cfi...     m night shyamalan   \n",
       "2364  https://www.allocine.fr/film/fichefilm_gen_cfi...          harold ramis   \n",
       "2365                                                NaN     robert guediguian   \n",
       "\n",
       "        country  duration               genre  first_day  first_week  ...  \\\n",
       "0     etatsunis      6960            thriller       8749       74208  ...   \n",
       "1     etatsunis      5160             comedie      64774      845332  ...   \n",
       "2     etatsunis      5460            thriller      20003      152900  ...   \n",
       "3        france      7800             comedie     140257      778154  ...   \n",
       "4     etatsunis      6600               drame      25189      239193  ...   \n",
       "...         ...       ...                 ...        ...         ...  ...   \n",
       "2361  etatsunis      7080     science fiction      52746      311308  ...   \n",
       "2362  etatsunis      7980  comedie dramatique      11051      116871  ...   \n",
       "2363  etatsunis      6000     science fiction      91575      548418  ...   \n",
       "2364  etatsunis      6180             comedie         -1      122863  ...   \n",
       "2365     france      6480             comedie       9616       67665  ...   \n",
       "\n",
       "      hebdo_rank  total_spectator  copies  rating_press  rating_public  \\\n",
       "0              7           173224     118           3.8            3.4   \n",
       "1              1          1551253     343          -1.0            3.2   \n",
       "2              6           261717     319           1.5            2.5   \n",
       "3              1          1723642     482           3.0            3.3   \n",
       "4              5           835400     229           4.4            3.7   \n",
       "...          ...              ...     ...           ...            ...   \n",
       "2361           5           689651     399           2.7            2.7   \n",
       "2362           7           369833     184           4.5            3.7   \n",
       "2363           1          1276118     497           2.4            2.2   \n",
       "2364           2           521101     112           3.8            4.1   \n",
       "2365          14           182845     117           NaN            NaN   \n",
       "\n",
       "                                                casting       budget  \\\n",
       "0     [\"Philip Seymour Hoffman\", \"Ethan Hawke\", \"Mar...   18000000.0   \n",
       "1     [\"Jim Carrey\", \"Maura Tierney\", \"Swoosie Kurtz...   45000000.0   \n",
       "2     [\"Daniel Craig\", \"Naomi Watts\", \"Rachel Weisz\"...   55000000.0   \n",
       "3     [\"Juliette Binoche\", \"Romain Duris\", \"Fabrice ...   13000000.0   \n",
       "4     [\"Joaquin Phoenix\", \"Gwyneth Paltrow\", \"Viness...   12000000.0   \n",
       "...                                                 ...          ...   \n",
       "2361  [\"Ben Affleck\", \"Uma Thurman\", \"Aaron Eckhart\"...   60000000.0   \n",
       "2362  [\"Alana Haim\", \"Cooper Hoffman\", \"Bradley Coop...         -1.0   \n",
       "2363  [\"Jaden Smith\", \"Will Smith\", \"Sophie Okonedo\"...  130000000.0   \n",
       "2364  [\"Bill Murray\", \"Andie MacDowell\", \"Stephen To...         -1.0   \n",
       "2365                                                NaN          NaN   \n",
       "\n",
       "                                    lang      visa  award  \n",
       "0                            [\"anglais\"]  118634.0    0.0  \n",
       "1                [\"anglais\", \"allemand\"]   92086.0    0.0  \n",
       "2                            [\"anglais\"]  130951.0    0.0  \n",
       "3                           [\"francais\"]  114879.0    0.0  \n",
       "4                            [\"anglais\"]  121726.0    0.0  \n",
       "...                                  ...       ...    ...  \n",
       "2361                         [\"anglais\"]  109777.0    0.0  \n",
       "2362                         [\"anglais\"]  156124.0    1.0  \n",
       "2363                         [\"anglais\"]  136713.0    2.0  \n",
       "2364  [\"anglais\", \"francais\", \"italien\"]   82623.0    0.0  \n",
       "2365                                 NaN       NaN    NaN  \n",
       "\n",
       "[2366 rows x 21 columns]>"
      ]
     },
     "execution_count": 13,
     "metadata": {},
     "output_type": "execute_result"
    }
   ],
   "source": [
    "df.head"
   ]
  },
  {
   "cell_type": "code",
   "execution_count": 23,
   "metadata": {},
   "outputs": [
    {
     "data": {
      "text/html": [
       "<div>\n",
       "<style scoped>\n",
       "    .dataframe tbody tr th:only-of-type {\n",
       "        vertical-align: middle;\n",
       "    }\n",
       "\n",
       "    .dataframe tbody tr th {\n",
       "        vertical-align: top;\n",
       "    }\n",
       "\n",
       "    .dataframe thead th {\n",
       "        text-align: right;\n",
       "    }\n",
       "</style>\n",
       "<table border=\"1\" class=\"dataframe\">\n",
       "  <thead>\n",
       "    <tr style=\"text-align: right;\">\n",
       "      <th></th>\n",
       "      <th>title</th>\n",
       "      <th>year</th>\n",
       "      <th>id_jp</th>\n",
       "      <th>url_allo</th>\n",
       "      <th>director</th>\n",
       "      <th>country</th>\n",
       "      <th>duration</th>\n",
       "      <th>genre</th>\n",
       "      <th>first_day</th>\n",
       "      <th>first_week</th>\n",
       "      <th>...</th>\n",
       "      <th>hebdo_rank</th>\n",
       "      <th>total_spectator</th>\n",
       "      <th>copies</th>\n",
       "      <th>rating_press</th>\n",
       "      <th>rating_public</th>\n",
       "      <th>casting</th>\n",
       "      <th>budget</th>\n",
       "      <th>lang</th>\n",
       "      <th>visa</th>\n",
       "      <th>award</th>\n",
       "    </tr>\n",
       "  </thead>\n",
       "  <tbody>\n",
       "    <tr>\n",
       "      <th>32</th>\n",
       "      <td>meurtre en suspens</td>\n",
       "      <td>1995</td>\n",
       "      <td>139a67541f36505d95e764afa46e0026</td>\n",
       "      <td>https://www.allocine.fr/film/fichefilm_gen_cfi...</td>\n",
       "      <td>john badham</td>\n",
       "      <td>etatsunis</td>\n",
       "      <td>5400</td>\n",
       "      <td>thriller</td>\n",
       "      <td>-1</td>\n",
       "      <td>261958</td>\n",
       "      <td>...</td>\n",
       "      <td>5</td>\n",
       "      <td>437221</td>\n",
       "      <td>113</td>\n",
       "      <td>-1.0</td>\n",
       "      <td>2.7</td>\n",
       "      <td>[\"Johnny Depp\", \"Christopher Walken\", \"Peter S...</td>\n",
       "      <td>-1.0</td>\n",
       "      <td>[\"anglais\"]</td>\n",
       "      <td>-1.0</td>\n",
       "      <td>0.0</td>\n",
       "    </tr>\n",
       "    <tr>\n",
       "      <th>755</th>\n",
       "      <td>yesterday</td>\n",
       "      <td>2019</td>\n",
       "      <td>8a1c9587c99763bda546b60708e00007</td>\n",
       "      <td>https://www.allocine.fr/film/fichefilm_gen_cfi...</td>\n",
       "      <td>danny boyle</td>\n",
       "      <td>grandebretagne</td>\n",
       "      <td>6720</td>\n",
       "      <td>comedie</td>\n",
       "      <td>-1</td>\n",
       "      <td>215264</td>\n",
       "      <td>...</td>\n",
       "      <td>4</td>\n",
       "      <td>678617</td>\n",
       "      <td>398</td>\n",
       "      <td>3.5</td>\n",
       "      <td>3.7</td>\n",
       "      <td>[\"Himesh Patel\", \"Lily James\", \"Ed Sheeran\", \"...</td>\n",
       "      <td>-1.0</td>\n",
       "      <td>[\"anglais\"]</td>\n",
       "      <td>151170.0</td>\n",
       "      <td>2.0</td>\n",
       "    </tr>\n",
       "    <tr>\n",
       "      <th>1508</th>\n",
       "      <td>le cousin</td>\n",
       "      <td>1997</td>\n",
       "      <td>NaN</td>\n",
       "      <td>NaN</td>\n",
       "      <td>alain corneau</td>\n",
       "      <td>france</td>\n",
       "      <td>6720</td>\n",
       "      <td>thriller</td>\n",
       "      <td>-1</td>\n",
       "      <td>224237</td>\n",
       "      <td>...</td>\n",
       "      <td>4</td>\n",
       "      <td>856606</td>\n",
       "      <td>410</td>\n",
       "      <td>NaN</td>\n",
       "      <td>NaN</td>\n",
       "      <td>NaN</td>\n",
       "      <td>NaN</td>\n",
       "      <td>NaN</td>\n",
       "      <td>NaN</td>\n",
       "      <td>NaN</td>\n",
       "    </tr>\n",
       "    <tr>\n",
       "      <th>1413</th>\n",
       "      <td>mensonges et trahisons et plus si affinites</td>\n",
       "      <td>2004</td>\n",
       "      <td>NaN</td>\n",
       "      <td>NaN</td>\n",
       "      <td>laurent tirard</td>\n",
       "      <td>france</td>\n",
       "      <td>5400</td>\n",
       "      <td>comedie</td>\n",
       "      <td>40378</td>\n",
       "      <td>251378</td>\n",
       "      <td>...</td>\n",
       "      <td>3</td>\n",
       "      <td>743201</td>\n",
       "      <td>265</td>\n",
       "      <td>NaN</td>\n",
       "      <td>NaN</td>\n",
       "      <td>NaN</td>\n",
       "      <td>NaN</td>\n",
       "      <td>NaN</td>\n",
       "      <td>NaN</td>\n",
       "      <td>NaN</td>\n",
       "    </tr>\n",
       "    <tr>\n",
       "      <th>208</th>\n",
       "      <td>soyez sympas rembobinez</td>\n",
       "      <td>2008</td>\n",
       "      <td>68c6505e04cd095f8c708c36a0393455</td>\n",
       "      <td>https://www.allocine.fr/film/fichefilm_gen_cfi...</td>\n",
       "      <td>michel gondry</td>\n",
       "      <td>etatsunis</td>\n",
       "      <td>6060</td>\n",
       "      <td>comedie</td>\n",
       "      <td>20821</td>\n",
       "      <td>146496</td>\n",
       "      <td>...</td>\n",
       "      <td>6</td>\n",
       "      <td>505993</td>\n",
       "      <td>190</td>\n",
       "      <td>3.8</td>\n",
       "      <td>3.6</td>\n",
       "      <td>[\"Jack Black\", \"Yasiin Bey\", \"Danny Glover\", \"...</td>\n",
       "      <td>20000000.0</td>\n",
       "      <td>[\"anglais\"]</td>\n",
       "      <td>119181.0</td>\n",
       "      <td>0.0</td>\n",
       "    </tr>\n",
       "  </tbody>\n",
       "</table>\n",
       "<p>5 rows × 21 columns</p>\n",
       "</div>"
      ],
      "text/plain": [
       "                                            title  year  \\\n",
       "32                             meurtre en suspens  1995   \n",
       "755                                     yesterday  2019   \n",
       "1508                                    le cousin  1997   \n",
       "1413  mensonges et trahisons et plus si affinites  2004   \n",
       "208                       soyez sympas rembobinez  2008   \n",
       "\n",
       "                                 id_jp  \\\n",
       "32    139a67541f36505d95e764afa46e0026   \n",
       "755   8a1c9587c99763bda546b60708e00007   \n",
       "1508                               NaN   \n",
       "1413                               NaN   \n",
       "208   68c6505e04cd095f8c708c36a0393455   \n",
       "\n",
       "                                               url_allo        director  \\\n",
       "32    https://www.allocine.fr/film/fichefilm_gen_cfi...     john badham   \n",
       "755   https://www.allocine.fr/film/fichefilm_gen_cfi...     danny boyle   \n",
       "1508                                                NaN   alain corneau   \n",
       "1413                                                NaN  laurent tirard   \n",
       "208   https://www.allocine.fr/film/fichefilm_gen_cfi...   michel gondry   \n",
       "\n",
       "             country  duration     genre  first_day  first_week  ...  \\\n",
       "32         etatsunis      5400  thriller         -1      261958  ...   \n",
       "755   grandebretagne      6720   comedie         -1      215264  ...   \n",
       "1508          france      6720  thriller         -1      224237  ...   \n",
       "1413          france      5400   comedie      40378      251378  ...   \n",
       "208        etatsunis      6060   comedie      20821      146496  ...   \n",
       "\n",
       "      hebdo_rank  total_spectator  copies  rating_press  rating_public  \\\n",
       "32             5           437221     113          -1.0            2.7   \n",
       "755            4           678617     398           3.5            3.7   \n",
       "1508           4           856606     410           NaN            NaN   \n",
       "1413           3           743201     265           NaN            NaN   \n",
       "208            6           505993     190           3.8            3.6   \n",
       "\n",
       "                                                casting      budget  \\\n",
       "32    [\"Johnny Depp\", \"Christopher Walken\", \"Peter S...        -1.0   \n",
       "755   [\"Himesh Patel\", \"Lily James\", \"Ed Sheeran\", \"...        -1.0   \n",
       "1508                                                NaN         NaN   \n",
       "1413                                                NaN         NaN   \n",
       "208   [\"Jack Black\", \"Yasiin Bey\", \"Danny Glover\", \"...  20000000.0   \n",
       "\n",
       "             lang      visa  award  \n",
       "32    [\"anglais\"]      -1.0    0.0  \n",
       "755   [\"anglais\"]  151170.0    2.0  \n",
       "1508          NaN       NaN    NaN  \n",
       "1413          NaN       NaN    NaN  \n",
       "208   [\"anglais\"]  119181.0    0.0  \n",
       "\n",
       "[5 rows x 21 columns]"
      ]
     },
     "execution_count": 23,
     "metadata": {},
     "output_type": "execute_result"
    }
   ],
   "source": [
    "df.sample(5)"
   ]
  },
  {
   "cell_type": "markdown",
   "metadata": {},
   "source": [
    "# Double Check "
   ]
  },
  {
   "cell_type": "code",
   "execution_count": 24,
   "metadata": {},
   "outputs": [
    {
     "data": {
      "text/plain": [
       "title                0\n",
       "year                 0\n",
       "id_jp              721\n",
       "url_allo           721\n",
       "director             0\n",
       "country              0\n",
       "duration             0\n",
       "genre                0\n",
       "first_day            0\n",
       "first_week           0\n",
       "first_weekend        0\n",
       "hebdo_rank           0\n",
       "total_spectator      0\n",
       "copies               0\n",
       "rating_press       721\n",
       "rating_public      721\n",
       "casting            721\n",
       "budget             721\n",
       "lang               721\n",
       "visa               721\n",
       "award              721\n",
       "dtype: int64"
      ]
     },
     "execution_count": 24,
     "metadata": {},
     "output_type": "execute_result"
    }
   ],
   "source": [
    "df.isna().sum()"
   ]
  },
  {
   "cell_type": "markdown",
   "metadata": {},
   "source": [
    "# Duplicates"
   ]
  },
  {
   "cell_type": "code",
   "execution_count": 25,
   "metadata": {},
   "outputs": [
    {
     "data": {
      "text/plain": [
       "0"
      ]
     },
     "execution_count": 25,
     "metadata": {},
     "output_type": "execute_result"
    }
   ],
   "source": [
    "df.duplicated().sum()"
   ]
  },
  {
   "cell_type": "markdown",
   "metadata": {},
   "source": [
    "# Outliers "
   ]
  },
  {
   "cell_type": "code",
   "execution_count": 27,
   "metadata": {},
   "outputs": [
    {
     "data": {
      "text/html": [
       "<div>\n",
       "<style scoped>\n",
       "    .dataframe tbody tr th:only-of-type {\n",
       "        vertical-align: middle;\n",
       "    }\n",
       "\n",
       "    .dataframe tbody tr th {\n",
       "        vertical-align: top;\n",
       "    }\n",
       "\n",
       "    .dataframe thead th {\n",
       "        text-align: right;\n",
       "    }\n",
       "</style>\n",
       "<table border=\"1\" class=\"dataframe\">\n",
       "  <thead>\n",
       "    <tr style=\"text-align: right;\">\n",
       "      <th></th>\n",
       "      <th>year</th>\n",
       "      <th>duration</th>\n",
       "      <th>first_day</th>\n",
       "      <th>first_week</th>\n",
       "      <th>first_weekend</th>\n",
       "      <th>hebdo_rank</th>\n",
       "      <th>total_spectator</th>\n",
       "      <th>copies</th>\n",
       "      <th>rating_press</th>\n",
       "      <th>rating_public</th>\n",
       "      <th>budget</th>\n",
       "      <th>visa</th>\n",
       "      <th>award</th>\n",
       "    </tr>\n",
       "  </thead>\n",
       "  <tbody>\n",
       "    <tr>\n",
       "      <th>count</th>\n",
       "      <td>2366.000000</td>\n",
       "      <td>2366.000000</td>\n",
       "      <td>2366.000000</td>\n",
       "      <td>2.366000e+03</td>\n",
       "      <td>2.366000e+03</td>\n",
       "      <td>2366.000000</td>\n",
       "      <td>2.366000e+03</td>\n",
       "      <td>2366.000000</td>\n",
       "      <td>1645.000000</td>\n",
       "      <td>1645.000000</td>\n",
       "      <td>1.645000e+03</td>\n",
       "      <td>1.645000e+03</td>\n",
       "      <td>1645.000000</td>\n",
       "    </tr>\n",
       "    <tr>\n",
       "      <th>mean</th>\n",
       "      <td>2006.919696</td>\n",
       "      <td>6806.246407</td>\n",
       "      <td>59769.836433</td>\n",
       "      <td>3.972693e+05</td>\n",
       "      <td>2.714668e+05</td>\n",
       "      <td>5.365173</td>\n",
       "      <td>1.173218e+06</td>\n",
       "      <td>345.663990</td>\n",
       "      <td>2.591489</td>\n",
       "      <td>3.167052</td>\n",
       "      <td>1.194409e+08</td>\n",
       "      <td>2.553577e+06</td>\n",
       "      <td>1.071733</td>\n",
       "    </tr>\n",
       "    <tr>\n",
       "      <th>std</th>\n",
       "      <td>8.240485</td>\n",
       "      <td>1189.719189</td>\n",
       "      <td>99650.571608</td>\n",
       "      <td>4.982316e+05</td>\n",
       "      <td>4.223613e+05</td>\n",
       "      <td>4.397120</td>\n",
       "      <td>1.694421e+06</td>\n",
       "      <td>215.939483</td>\n",
       "      <td>1.665822</td>\n",
       "      <td>0.708522</td>\n",
       "      <td>1.902005e+09</td>\n",
       "      <td>7.033990e+07</td>\n",
       "      <td>2.964463</td>\n",
       "    </tr>\n",
       "    <tr>\n",
       "      <th>min</th>\n",
       "      <td>1986.000000</td>\n",
       "      <td>-1.000000</td>\n",
       "      <td>-1.000000</td>\n",
       "      <td>6.774000e+03</td>\n",
       "      <td>-1.000000e+00</td>\n",
       "      <td>1.000000</td>\n",
       "      <td>8.403000e+03</td>\n",
       "      <td>-1.000000</td>\n",
       "      <td>-1.000000</td>\n",
       "      <td>1.000000</td>\n",
       "      <td>-1.000000e+00</td>\n",
       "      <td>-1.000000e+00</td>\n",
       "      <td>0.000000</td>\n",
       "    </tr>\n",
       "    <tr>\n",
       "      <th>25%</th>\n",
       "      <td>2000.000000</td>\n",
       "      <td>6000.000000</td>\n",
       "      <td>5591.000000</td>\n",
       "      <td>1.085995e+05</td>\n",
       "      <td>-1.000000e+00</td>\n",
       "      <td>2.000000</td>\n",
       "      <td>2.526422e+05</td>\n",
       "      <td>179.250000</td>\n",
       "      <td>2.400000</td>\n",
       "      <td>2.700000</td>\n",
       "      <td>-1.000000e+00</td>\n",
       "      <td>8.961200e+04</td>\n",
       "      <td>0.000000</td>\n",
       "    </tr>\n",
       "    <tr>\n",
       "      <th>50%</th>\n",
       "      <td>2007.000000</td>\n",
       "      <td>6600.000000</td>\n",
       "      <td>24156.000000</td>\n",
       "      <td>2.234820e+05</td>\n",
       "      <td>1.221605e+05</td>\n",
       "      <td>4.000000</td>\n",
       "      <td>5.947940e+05</td>\n",
       "      <td>307.000000</td>\n",
       "      <td>3.100000</td>\n",
       "      <td>3.300000</td>\n",
       "      <td>1.200000e+07</td>\n",
       "      <td>1.105710e+05</td>\n",
       "      <td>0.000000</td>\n",
       "    </tr>\n",
       "    <tr>\n",
       "      <th>75%</th>\n",
       "      <td>2013.000000</td>\n",
       "      <td>7440.000000</td>\n",
       "      <td>62103.500000</td>\n",
       "      <td>4.652755e+05</td>\n",
       "      <td>3.285918e+05</td>\n",
       "      <td>8.000000</td>\n",
       "      <td>1.362377e+06</td>\n",
       "      <td>488.000000</td>\n",
       "      <td>3.700000</td>\n",
       "      <td>3.700000</td>\n",
       "      <td>5.500000e+07</td>\n",
       "      <td>1.333450e+05</td>\n",
       "      <td>1.000000</td>\n",
       "    </tr>\n",
       "    <tr>\n",
       "      <th>max</th>\n",
       "      <td>2024.000000</td>\n",
       "      <td>12360.000000</td>\n",
       "      <td>850297.000000</td>\n",
       "      <td>4.378720e+06</td>\n",
       "      <td>3.586497e+06</td>\n",
       "      <td>20.000000</td>\n",
       "      <td>2.063479e+07</td>\n",
       "      <td>1093.000000</td>\n",
       "      <td>5.000000</td>\n",
       "      <td>4.600000</td>\n",
       "      <td>6.500000e+10</td>\n",
       "      <td>2.023007e+09</td>\n",
       "      <td>54.000000</td>\n",
       "    </tr>\n",
       "  </tbody>\n",
       "</table>\n",
       "</div>"
      ],
      "text/plain": [
       "              year      duration      first_day    first_week  first_weekend  \\\n",
       "count  2366.000000   2366.000000    2366.000000  2.366000e+03   2.366000e+03   \n",
       "mean   2006.919696   6806.246407   59769.836433  3.972693e+05   2.714668e+05   \n",
       "std       8.240485   1189.719189   99650.571608  4.982316e+05   4.223613e+05   \n",
       "min    1986.000000     -1.000000      -1.000000  6.774000e+03  -1.000000e+00   \n",
       "25%    2000.000000   6000.000000    5591.000000  1.085995e+05  -1.000000e+00   \n",
       "50%    2007.000000   6600.000000   24156.000000  2.234820e+05   1.221605e+05   \n",
       "75%    2013.000000   7440.000000   62103.500000  4.652755e+05   3.285918e+05   \n",
       "max    2024.000000  12360.000000  850297.000000  4.378720e+06   3.586497e+06   \n",
       "\n",
       "        hebdo_rank  total_spectator       copies  rating_press  rating_public  \\\n",
       "count  2366.000000     2.366000e+03  2366.000000   1645.000000    1645.000000   \n",
       "mean      5.365173     1.173218e+06   345.663990      2.591489       3.167052   \n",
       "std       4.397120     1.694421e+06   215.939483      1.665822       0.708522   \n",
       "min       1.000000     8.403000e+03    -1.000000     -1.000000       1.000000   \n",
       "25%       2.000000     2.526422e+05   179.250000      2.400000       2.700000   \n",
       "50%       4.000000     5.947940e+05   307.000000      3.100000       3.300000   \n",
       "75%       8.000000     1.362377e+06   488.000000      3.700000       3.700000   \n",
       "max      20.000000     2.063479e+07  1093.000000      5.000000       4.600000   \n",
       "\n",
       "             budget          visa        award  \n",
       "count  1.645000e+03  1.645000e+03  1645.000000  \n",
       "mean   1.194409e+08  2.553577e+06     1.071733  \n",
       "std    1.902005e+09  7.033990e+07     2.964463  \n",
       "min   -1.000000e+00 -1.000000e+00     0.000000  \n",
       "25%   -1.000000e+00  8.961200e+04     0.000000  \n",
       "50%    1.200000e+07  1.105710e+05     0.000000  \n",
       "75%    5.500000e+07  1.333450e+05     1.000000  \n",
       "max    6.500000e+10  2.023007e+09    54.000000  "
      ]
     },
     "execution_count": 27,
     "metadata": {},
     "output_type": "execute_result"
    }
   ],
   "source": [
    "df.describe()"
   ]
  },
  {
   "cell_type": "markdown",
   "metadata": {},
   "source": [
    "# Binary Encoding "
   ]
  },
  {
   "cell_type": "code",
   "execution_count": 38,
   "metadata": {},
   "outputs": [
    {
     "data": {
      "text/plain": [
       "array(['sidney lumet', 'tom shadyac', 'jim sheridan', 'cedric klapisch',\n",
       "       'james gray', 'andre techine', 'pascal thomas', 'patrice leconte',\n",
       "       'stephen frears', 'ridley scott', 'woody allen', 'james cameron',\n",
       "       'harold ramis', 'peter hyams', 'joel schumacher', 'thomas gilou',\n",
       "       'claude lelouch', 'pierre salvadori', 'pj hogan', 'renny harlin',\n",
       "       'claude miller', 'brett ratner', 'mathieu kassovitz', 'jj abrams',\n",
       "       'kenneth branagh', 'brian levant', 'eric lartigau', 'claude berri',\n",
       "       'alan j pakula', 'jon favreau', 'roger spottiswoode',\n",
       "       'michael mann', 'john badham', 'rob minkoff', 'barbet schroeder',\n",
       "       'dennis dugan', 'edgar wright', 'francis veber', 'richard donner',\n",
       "       'barry levinson', 'robert rodriguez', 'roland emmerich',\n",
       "       'bertrand tavernier', 'wong karwai', 'shawn levy', 'george miller',\n",
       "       'jonathan mostow', 'andrew stanton', 'todd phillips',\n",
       "       'neil jordan', 'jean becker', 'ang lee', 'simon west',\n",
       "       'oliver stone', 'f gary gray', 'gilles paquetbrenner',\n",
       "       'antoine fuqua', 'david yates', 'jaume colletserra', 'jan de bont',\n",
       "       'sean penn', 'nancy meyers', 'ron howard', 'joel coen',\n",
       "       'john lasseter', 'ron clements', 'olivier dahan', 'coline serreau',\n",
       "       'george clooney', 'martin campbell', 'tony scott', 'rob marshall',\n",
       "       'luc besson', 'andy tennant', 'joe carnahan', 'mike leigh',\n",
       "       'curtis hanson', 'robert redford', 'steven soderbergh',\n",
       "       'matt reeves', 'lars von trier', 'jon avnet', 'jeanpaul salome',\n",
       "       'jane campion', 'zack snyder', 'nicole garcia', 'michel blanc',\n",
       "       'martin scorsese', 'paul greengrass', 'clint eastwood',\n",
       "       'fabien onteniente', 'ken loach', 'nick cassavetes',\n",
       "       'david cronenberg', 'jacques audiard', 'patty jenkins',\n",
       "       'jon turteltaub', 'sam raimi', 'lasse hallstrom', 'olivier baroux',\n",
       "       'pierre jolivet', 'david twohy', 'marc esposito', 'richard curtis',\n",
       "       'peter jackson', 'francis lawrence', 'gus van sant',\n",
       "       'gore verbinski', 'richard lagravenese', 'chris weitz',\n",
       "       'paul thomas anderson', 'antoine de caunes', 'bernardo bertolucci',\n",
       "       'matthew vaughn', 'gerard krawczyk', 'anne fontaine',\n",
       "       'michael winterbottom', 'mike newell', 'mimi leder',\n",
       "       'alejandro gonzalez inarritu', 'joe johnston', 'barry sonnenfeld',\n",
       "       'edward zwick', 'jeanpaul rappeneau', 'christopher nolan',\n",
       "       'edouard molinaro', 'john carpenter', 'francois ozon',\n",
       "       'wes craven', 'alain corneau', 'quentin tarantino', 'chris renaud',\n",
       "       'dany boon', 'albert hughes', 'kevin smith', 'alexandre aja',\n",
       "       'paul verhoeven', 'brian de palma', 'sylvester stallone',\n",
       "       'dj caruso', 'tim burton', 'david fincher', 'david o russell',\n",
       "       'julian schnabel', 'jacques doillon', 'danny boyle',\n",
       "       'wes anderson', 'michel gondry', 'dominic sena', 'olivier megaton',\n",
       "       'agnes jaoui', 'steven spielberg', 'james ivory', 'claude zidi',\n",
       "       'paul ws anderson', 'hayao miyazaki', 'alfonso cuaron',\n",
       "       'guy ritchie', 'brad bird', 'laurent tirard', 'michael bay',\n",
       "       'gerard pires', 'martin brest', 'pierre morel', 'brad silberling',\n",
       "       'darren aronofsky', 'james huth', 'alexander payne',\n",
       "       'michael haneke', 'guillaume canet', 'roman polanski',\n",
       "       'robert zemeckis', 'pedro almodovar', 'bryan singer',\n",
       "       'len wiseman', 'louis leterrier', 'guillaume nicloux',\n",
       "       'jason reitman', 'diane kurys', 'frederic schoendoerffer',\n",
       "       'shane black', 'peter segal', 'cedric kahn', 'claude chabrol',\n",
       "       'doug liman', 'daniele thompson', 'jeanmarie poire',\n",
       "       'robert guediguian', 'quentin dupieux', 'andrew niccol',\n",
       "       'rob cohen', 'terry gilliam', 'stephane brize', 'bruce beresford',\n",
       "       'robert altman', 'norman jewison', 'm night shyamalan',\n",
       "       'jeanfrancois richet', 'nora ephron', 'albert dupontel',\n",
       "       'nicolas boukhrief', 'xavier dolan', 'wolfgang petersen',\n",
       "       'john mctiernan', 'jeanjacques annaud', 'john singleton',\n",
       "       'etienne chatiliez', 'bill condon', 'michael moore',\n",
       "       'jonathan demme', 'andrew davis', 'eli roth', 'frank darabont',\n",
       "       'alain chabat', 'andrew adamson', 'rian johnson', 'gerard jugnot',\n",
       "       'emir kusturica', 'guillermo del toro', 'lee tamahori',\n",
       "       'alex proyas', 'tonie marshall', 'jeanpierre jeunet',\n",
       "       'william friedkin', 'mel gibson', 'james mangold',\n",
       "       'stephen sommers', 'peter berg', 'jim jarmusch', 'bertrand blier',\n",
       "       'james l brooks', 'jon amiel', 'jan kounen', 'damien chazelle',\n",
       "       'sofia coppola', 'paul weitz', 'kevin reynolds', 'luc jacquet',\n",
       "       'chris columbus', 'anthony minghella', 'sam mendes',\n",
       "       'raja gosnell', 'jay roach', 'judd apatow', 'nanni moretti',\n",
       "       'neil labute', 'zabou breitman', 'philippe lioret',\n",
       "       'olivier marchal', 'sydney pollack', 'walter hill',\n",
       "       'richard berry', 'ryan coogler', 'cameron crowe',\n",
       "       'josiane balasko', 'colin trevorrow', 'joseph kosinski',\n",
       "       'wachowski brothers', 'gary marshall', 'regis wargnier',\n",
       "       'dardenne freres', 'juan antonio bayona', 'kathryn bigelow',\n",
       "       'francis f coppola', 'joss whedon', 'win wenders', 'lee unkrich',\n",
       "       'baz luhrmann', 'alexandre arcady', 'michael apted', 'rob reiner',\n",
       "       'yvan attal', 'john landis', 'philippe de broca',\n",
       "       'charlotte de turckheim', 'peter farrelly', 'ben affleck',\n",
       "       'alain berberian', 'nicolas vanier', 'lawrence kasdan',\n",
       "       'russo brothers', 'christophe barratier', 'lisa azuelos',\n",
       "       'pierrefrancois martinlaval', 'nick park', 'spike lee',\n",
       "       'christophe gans', 'george lucas', 'dominik moll', 'david lynch',\n",
       "       'george a romero', 'john frankenheimer', 'denis villeneuve',\n",
       "       'zhang yimou', 'gareth edwards', 'keenen ivory wayans',\n",
       "       'christopher mcquarrie', 'stephen daldry', 'roland joffe',\n",
       "       'simon wells', 'philip noyce', 'isabelle mergault',\n",
       "       'elie chouraqui', 'costagavras', 'neil blomkamp', 'claire denis',\n",
       "       'dominique farrugia', 'paul schrader', 'david zucker',\n",
       "       'florent emilio siri', 'michel hazanavicius', 'chris wedge',\n",
       "       'michael catonjones', 'claude sautet', 'maiwenn', 'michel ocelot',\n",
       "       'peter weir', 'xavier beauvois', 'olivier assayas', 'mel brooks',\n",
       "       'john boorman', 'gerard oury', 'alan parker',\n",
       "       'phlippe de chauveron', 'benoit jacquot', 'nakache toledano',\n",
       "       'eric rohmer', 'eric rochant', 'james wan', 'paul feig',\n",
       "       'mike nichols', 'stanley kubrick', 'marc foster', 'james gunn',\n",
       "       'jeanbaptiste lucien', 'cedric jimenez', 'valerie lemercier',\n",
       "       'jeanjacques beineix', 'patrice chereau', 'charles chaplin',\n",
       "       'justin lin', 'alain resnais', 'spike jonze', 'terrence malick',\n",
       "       'ivan reitman', 'john woo', 'jerry zucker', 'frank oz',\n",
       "       'takeshi kitano', 'todd solondz', 'todd haynes', 'mcg',\n",
       "       'milos forman', 'jon watts', 'joe dante', 'yves robert',\n",
       "       'andrzej zulawski', 'walter salles', 'adrian lyne',\n",
       "       'jeanluc godard', 'michael cimino'], dtype=object)"
      ]
     },
     "execution_count": 38,
     "metadata": {},
     "output_type": "execute_result"
    }
   ],
   "source": [
    "df.director.unique()"
   ]
  },
  {
   "cell_type": "code",
   "execution_count": 39,
   "metadata": {},
   "outputs": [
    {
     "data": {
      "text/plain": [
       "array(['etatsunis', 'france', 'grandebretagne', 'australie', 'irlande',\n",
       "       'danemark', 'chine', 'canada', 'italie', 'espagne', 'japon',\n",
       "       'allemagne', 'nouvellezelande', 'belgique', 'mexique', 'suisse',\n",
       "       'serbie', 'autriche', 'taiwan', 'argentine', 'bresil'],\n",
       "      dtype=object)"
      ]
     },
     "execution_count": 39,
     "metadata": {},
     "output_type": "execute_result"
    }
   ],
   "source": [
    "df.country.unique()\n"
   ]
  },
  {
   "cell_type": "code",
   "execution_count": 40,
   "metadata": {},
   "outputs": [
    {
     "data": {
      "text/plain": [
       "array(['thriller', 'comedie', 'drame', 'aventure action', 'romance',\n",
       "       'science fiction', 'comicbook', 'film familial', 'guerre',\n",
       "       'animation', 'comedie dramatique', 'western', 'fantasy',\n",
       "       'documentaire', 'horreur', 'musical', 'catastrophe', 'peplum',\n",
       "       'x erotique', 'courtmetrage'], dtype=object)"
      ]
     },
     "execution_count": 40,
     "metadata": {},
     "output_type": "execute_result"
    }
   ],
   "source": [
    "df.genre.unique()"
   ]
  },
  {
   "cell_type": "code",
   "execution_count": 43,
   "metadata": {},
   "outputs": [
    {
     "data": {
      "text/plain": [
       "array(['[\"anglais\"]', '[\"anglais\", \"allemand\"]', '[\"francais\"]',\n",
       "       '[\"danois\", \"anglais\", \"espagnol\"]',\n",
       "       '[\"arabic\", \"anglais\", \"francais\", \"allemand\"]',\n",
       "       '[\"cantonais\", \"anglais\", \"japonais\"]',\n",
       "       '[\"anglais\", \"francais\", \"russe\"]', '[\"cantonais\", \"anglais\"]',\n",
       "       '[\"\"]', '[\"anglais\", \"espagnol\"]',\n",
       "       '[\"anglais\", \"francais\", \"grec\", \"italien\"]',\n",
       "       '[\"francais\", \"allemand\"]', '[\"anglais\", \"mandarin\"]',\n",
       "       '[\"anglais\", \"hebreu\"]', '[\"anglais\", \"francais\"]',\n",
       "       '[\"arabic\", \"anglais\", \"allemand\", \"turc\"]',\n",
       "       '[\"anglais\", \"francais\", \"allemand\"]',\n",
       "       '[\"anglais\", \"francais\", \"hindi\", \"portugais\", \"russe\"]',\n",
       "       '[\"cantonais\", \"anglais\", \"mandarin\"]',\n",
       "       '[\"cantonais\", \"anglais\", \"japonais\", \"mandarin\"]',\n",
       "       '[\"anglais\", \"russe\", \"turc\", \"ourdou\"]', '[\"arabic\", \"francais\"]',\n",
       "       '[\"anglais\", \"francais\", \"islandais\", \"russe\"]',\n",
       "       '[\"cantonais\", \"japonais\", \"mandarin\"]',\n",
       "       '[\"anglais\", \"francais\", \"allemand\", \"italien\", \"espagnol\"]',\n",
       "       '[\"anglais\", \"francais\", \"allemand\", \"russe\", \"espagnol\"]',\n",
       "       '[\"anglais\", \"latin\"]', '[\"chinois\", \"espagnol\", \"wolof\"]',\n",
       "       '[\"anglais\", \"japonais\"]', '[\"tcheque\", \"anglais\", \"francais\"]',\n",
       "       '[\"anglais\", \"hindi\"]',\n",
       "       '[\"anglais\", \"francais\", \"hongrois\", \"russe\"]',\n",
       "       '[\"dialecte africain\", \"anglais\", \"espagnol\"]', '[\"japonais\"]',\n",
       "       '[\"albanais\", \"arabic\", \"anglais\", \"francais\"]',\n",
       "       '[\"anglais\", \"francais\", \"allemand\", \"mandarin\"]',\n",
       "       '[\"anglais\", \"francais\", \"italien\"]',\n",
       "       '[\"allemand\", \"italien\", \"polonais\"]',\n",
       "       '[\"anglais\", \"portugais\", \"espagnol\"]', '[\"anglais\", \"russe\"]',\n",
       "       '[\"anglais\", \"francais\", \"espagnol\", \"swahili\"]',\n",
       "       '[\"francais\", \"hongrois\"]', '[\"anglais\", \"estonien\"]',\n",
       "       '[\"tcheque\", \"anglais\", \"hongrois\", \"espagnol\"]',\n",
       "       '[\"arabic\", \"anglais\", \"francais\", \"espagnol\"]',\n",
       "       '[\"anglais\", \"allemand\", \"roumain\"]',\n",
       "       '[\"anglais\", \"allemand\", \"hindi\"]', '[\"mandarin\"]',\n",
       "       '[\"anglais\", \"russe\", \"espagnol\"]', '[\"anglais\", \"roumain\"]',\n",
       "       '[\"anglais\", \"francais\", \"allemand\", \"russe\", \"serbe\"]',\n",
       "       '[\"arabic\", \"anglais\", \"francais\", \"japonais\", \"espagnol\"]',\n",
       "       '[\"anglais\", \"italien\"]', '[\"catalan\", \"anglais\", \"espagnol\"]',\n",
       "       '[\"arabic\", \"anglais\", \"allemand\", \"italien\"]', '[\"espagnol\"]',\n",
       "       '[\"anglais\", \"francais\", \"italien\", \"latin\"]',\n",
       "       '[\"anglais\", \"francais\", \"hongrois\", \"espagnol\"]',\n",
       "       '[\"anglais\", \"francais\", \"italien\", \"latin\", \"mandarin\", \"portugais\", \"russe\"]',\n",
       "       '[\"italien\"]', '[\"anglais\", \"francais\", \"allemand\", \"italien\"]',\n",
       "       '[\"francais\", \"allemand\", \"hebreu\", \"yiddish\"]',\n",
       "       '[\"flamand\", \"francais\"]', nan,\n",
       "       '[\"anglais\", \"francais\", \"allemand\", \"russe\"]',\n",
       "       '[\"anglais\", \"francais\", \"espagnol\"]', '[\"arameen\", \"latin\"]',\n",
       "       '[\"arabic\", \"anglais\"]',\n",
       "       '[\"anglais\", \"islandais\", \"norvegien\", \"espagnol\"]',\n",
       "       '[\"anglais\", \"francais\", \"thai\"]',\n",
       "       '[\"arabic\", \"anglais\", \"francais\"]', '[\"anglais\", \"polonais\"]',\n",
       "       '[\"anglais\", \"francais\", \"allemand\", \"espagnol\"]',\n",
       "       '[\"tcheque\", \"anglais\", \"allemand\", \"russe\", \"espagnol\"]',\n",
       "       '[\"francais\", \"allemand\", \"japonais\"]', '[\"anglais\", \"coreen\"]',\n",
       "       '[\"anglais\", \"latin\", \"polonais\"]', '[\"anglais\", \"grec\"]',\n",
       "       '[\"anglais\", \"ourdou\"]',\n",
       "       '[\"arabic\", \"francais\", \"italien\", \"roumain\"]',\n",
       "       '[\"chinois\", \"anglais\", \"espagnol\"]',\n",
       "       '[\"anglais\", \"allemand\", \"espagnol\"]',\n",
       "       '[\"anglais\", \"italien\", \"russe\"]',\n",
       "       '[\"anglais\", \"allemand\", \"russe\"]', '[\"francais\", \"italien\"]',\n",
       "       '[\"anglais\", \"francais\", \"allemand\", \"italien\", \"mandarin\"]',\n",
       "       '[\"chinois\"]', '[\"allemand\", \"roumain\", \"serbe\"]',\n",
       "       '[\"anglais\", \"francais\", \"japonais\"]',\n",
       "       '[\"anglais\", \"italien\", \"espagnol\"]',\n",
       "       '[\"anglais\", \"francais\", \"roumain\"]', '[\"anglais\", \"thai\"]',\n",
       "       '[\"anglais\", \"francais\", \"mandarin\"]',\n",
       "       '[\"anglais\", \"francais\", \"hindi\"]',\n",
       "       '[\"cantonais\", \"anglais\", \"italien\"]',\n",
       "       '[\"anglais\", \"francais\", \"hebreu\", \"espagnol\", \"thai\"]',\n",
       "       '[\"anglais\", \"francais\", \"grec\", \"mandarin\", \"turc\"]',\n",
       "       '[\"anglais\", \"somali\"]', '[\"francais\", \"espagnol\"]',\n",
       "       '[\"chinois\", \"francais\"]', '[\"arabic\", \"anglais\", \"autre\"]',\n",
       "       '[\"chinois\", \"anglais\", \"francais\", \"allemand\", \"japonais\", \"autre\", \"espagnol\"]',\n",
       "       '[\"anglais\", \"francais\", \"allemand\", \"japonais\"]',\n",
       "       '[\"arabic\", \"anglais\", \"francais\", \"allemand\", \"hongrois\", \"japonais\", \"russe\", \"espagnol\"]',\n",
       "       '[\"arabic\", \"anglais\", \"italien\", \"roumain\", \"espagnol\"]',\n",
       "       '[\"anglais\", \"hongrois\"]', '[\"chinois\", \"francais\", \"russe\"]',\n",
       "       '[\"anglais\", \"allemand\", \"hindi\", \"mandarin\"]',\n",
       "       '[\"francais\", \"japonais\", \"mandarin\"]',\n",
       "       '[\"anglais\", \"italien\", \"japonais\", \"espagnol\"]',\n",
       "       '[\"anglais\", \"vietnamien\"]',\n",
       "       '[\"anglais\", \"francais\", \"allemand\", \"suisse allemand\"]',\n",
       "       '[\"arabic\", \"anglais\", \"japonais\", \"autre\", \"espagnol\"]',\n",
       "       '[\"francais\", \"khmer\"]', '[\"anglais\", \"allemand\", \"italien\"]',\n",
       "       '[\"anglais\", \"portugais\"]',\n",
       "       '[\"anglais\", \"francais\", \"georgien\", \"russe\"]',\n",
       "       '[\"chinois\", \"anglais\"]',\n",
       "       '[\"chinois\", \"anglais\", \"francais\", \"espagnol\", \"yiddish\"]',\n",
       "       '[\"maya\"]', '[\"anglais\", \"coreen\", \"russe\", \"espagnol\"]',\n",
       "       '[\"neerlandais\", \"anglais\", \"francais\", \"allemand\", \"italien\"]',\n",
       "       '[\"arabic\", \"anglais\", \"allemand\"]',\n",
       "       '[\"anglais\", \"francais\", \"vietnamien\"]',\n",
       "       '[\"anglais\", \"francais\", \"russe\", \"espagnol\"]',\n",
       "       '[\"chinois\", \"anglais\", \"italien\"]', '[\"cantonais\", \"francais\"]',\n",
       "       '[\"allemand\", \"portugais\"]', '[\"anglais\", \"mandarin\", \"espagnol\"]',\n",
       "       '[\"francais\", \"russe\"]',\n",
       "       '[\"arabic\", \"anglais\", \"hebreu\", \"russe\", \"ourdou\"]',\n",
       "       '[\"arabic\", \"anglais\", \"francais\", \"mandarin\", \"espagnol\"]',\n",
       "       '[\"anglais\", \"francais\", \"allemand\", \"polonais\"]',\n",
       "       '[\"neerlandais\", \"francais\"]', '[\"bengali\", \"francais\"]',\n",
       "       '[\"anglais\", \"francais\", \"latin\"]',\n",
       "       '[\"bosniaque\", \"anglais\", \"russe\", \"serbe\"]'], dtype=object)"
      ]
     },
     "execution_count": 43,
     "metadata": {},
     "output_type": "execute_result"
    }
   ],
   "source": [
    "df.lang.unique()"
   ]
  },
  {
   "cell_type": "code",
   "execution_count": 50,
   "metadata": {},
   "outputs": [
    {
     "data": {
      "text/plain": [
       "1433    54.0\n",
       "205     26.0\n",
       "504     25.0\n",
       "1067    23.0\n",
       "622     22.0\n",
       "2110    21.0\n",
       "1752    19.0\n",
       "2245    19.0\n",
       "114     18.0\n",
       "447     17.0\n",
       "Name: award, dtype: float64"
      ]
     },
     "execution_count": 50,
     "metadata": {},
     "output_type": "execute_result"
    }
   ],
   "source": [
    "df.award.nlargest(10)"
   ]
  },
  {
   "cell_type": "code",
   "execution_count": 49,
   "metadata": {},
   "outputs": [
    {
     "data": {
      "text/plain": [
       "1371    6.500000e+10\n",
       "1410    4.090300e+10\n",
       "223     4.187000e+09\n",
       "1799    3.043000e+09\n",
       "509     2.415000e+09\n",
       "2017    2.384000e+09\n",
       "519     2.175000e+09\n",
       "1639    1.674000e+09\n",
       "22      1.606000e+09\n",
       "1310    1.575000e+09\n",
       "Name: budget, dtype: float64"
      ]
     },
     "execution_count": 49,
     "metadata": {},
     "output_type": "execute_result"
    }
   ],
   "source": [
    "df.budget.nlargest(10)"
   ]
  },
  {
   "cell_type": "code",
   "execution_count": 51,
   "metadata": {},
   "outputs": [
    {
     "data": {
      "text/plain": [
       "0     0.0\n",
       "1     0.0\n",
       "2     0.0\n",
       "3     0.0\n",
       "4     0.0\n",
       "5     0.0\n",
       "7     0.0\n",
       "8     0.0\n",
       "9     0.0\n",
       "10    0.0\n",
       "Name: award, dtype: float64"
      ]
     },
     "execution_count": 51,
     "metadata": {},
     "output_type": "execute_result"
    }
   ],
   "source": [
    "df.award.nsmallest(10)"
   ]
  },
  {
   "cell_type": "code",
   "execution_count": 52,
   "metadata": {},
   "outputs": [
    {
     "data": {
      "text/plain": [
       "5    -1.0\n",
       "6    -1.0\n",
       "7    -1.0\n",
       "12   -1.0\n",
       "15   -1.0\n",
       "19   -1.0\n",
       "20   -1.0\n",
       "26   -1.0\n",
       "27   -1.0\n",
       "32   -1.0\n",
       "Name: budget, dtype: float64"
      ]
     },
     "execution_count": 52,
     "metadata": {},
     "output_type": "execute_result"
    }
   ],
   "source": [
    "df.budget.nsmallest(10)"
   ]
  }
 ],
 "metadata": {
  "kernelspec": {
   "display_name": "Python 3",
   "language": "python",
   "name": "python3"
  },
  "language_info": {
   "codemirror_mode": {
    "name": "ipython",
    "version": 3
   },
   "file_extension": ".py",
   "mimetype": "text/x-python",
   "name": "python",
   "nbconvert_exporter": "python",
   "pygments_lexer": "ipython3",
   "version": "3.10.12"
  }
 },
 "nbformat": 4,
 "nbformat_minor": 2
}
